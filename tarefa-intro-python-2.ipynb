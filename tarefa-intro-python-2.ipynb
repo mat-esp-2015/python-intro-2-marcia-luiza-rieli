{
 "cells": [
  {
   "cell_type": "markdown",
   "metadata": {},
   "source": [
    "**Course website**: http://www.leouieda.com/matematica-especial\n",
    "\n",
    "**Note**: This notebook is part of the course \"Matemática Especial I\" of the [Universidade do Estado do Rio de Janeiro](http://www.uerj.br/). All content can be freely used and adapted under the terms of the \n",
    "[Creative Commons Attribution 4.0 International License](http://creativecommons.org/licenses/by/4.0/).\n",
    "\n",
    "![Creative Commons License](https://i.creativecommons.org/l/by/4.0/88x31.png)"
   ]
  },
  {
   "cell_type": "markdown",
   "metadata": {},
   "source": [
    "# Tarefas de Python II"
   ]
  },
  {
   "cell_type": "markdown",
   "metadata": {},
   "source": [
    "Nessas tarefas, vocês vão praticar os conceitos de programação em Python que aprenderam na prática passada. Além disso, vão aprender algumas coisas novas, como ler dados de arquivos.\n",
    "\n",
    "Algumas células de código estarão preenchidas. Essas células são exemplos ou códigos que devem ser rodados para verificar se seu resultado está de acordo com o esperado."
   ]
  },
  {
   "cell_type": "markdown",
   "metadata": {},
   "source": [
    "## Leitura recomendada\n",
    "\n",
    "O material da lição \"Programming with Python\" versão 4 do\n",
    "[Software Carpentry](http://software-carpentry.org/).\n",
    "Particularmente:\n",
    "\n",
    "* Lists\n",
    "* Input and Output\n",
    "* Strings"
   ]
  },
  {
   "cell_type": "markdown",
   "metadata": {},
   "source": [
    "## Listas\n",
    "\n",
    "Vocês tiveram um contato limitado com listas antes. Agora, vamos aprender como fazer coisas mais sofisticadas com listas, como adicionar valores, fazer uma cópia, e utilizar a lista no `for`.\n",
    "\n",
    "Primeiro, vamos criar uma lista para testarmos."
   ]
  },
  {
   "cell_type": "code",
   "execution_count": 1,
   "metadata": {
    "collapsed": true
   },
   "outputs": [],
   "source": [
    "lista = [42, 21, 14, 7, 29]"
   ]
  },
  {
   "cell_type": "markdown",
   "metadata": {},
   "source": [
    "Você pode perguntar o número de elementos que existem em uma lista utilizando a função `len` (muito melhor que contar os elementos na mão)."
   ]
  },
  {
   "cell_type": "code",
   "execution_count": 2,
   "metadata": {
    "collapsed": false
   },
   "outputs": [
    {
     "name": "stdout",
     "output_type": "stream",
     "text": [
      "5\n"
     ]
    }
   ],
   "source": [
    "N = len(lista)\n",
    "print(N)"
   ]
  },
  {
   "cell_type": "markdown",
   "metadata": {},
   "source": [
    "Outra coisa que podemos fazer é adicionar coisas a nossa lista utilizando o método `append`. \n",
    "\n",
    "**Nota**: \"funções\" são coisa como `print`, `len` e `range` que são executadas com `()` e produzem algo. \"Métodos\" são funções que operam em uma determinada variável e a alteram, como `append` e `format`."
   ]
  },
  {
   "cell_type": "code",
   "execution_count": 2,
   "metadata": {
    "collapsed": true
   },
   "outputs": [],
   "source": [
    "outra_lista = []"
   ]
  },
  {
   "cell_type": "code",
   "execution_count": 3,
   "metadata": {
    "collapsed": true
   },
   "outputs": [],
   "source": [
    "outra_lista.append(10)"
   ]
  },
  {
   "cell_type": "code",
   "execution_count": 6,
   "metadata": {
    "collapsed": false
   },
   "outputs": [
    {
     "name": "stdout",
     "output_type": "stream",
     "text": [
      "[10, 25]\n"
     ]
    }
   ],
   "source": [
    "print(outra_lista)"
   ]
  },
  {
   "cell_type": "markdown",
   "metadata": {},
   "source": [
    "Experimente adicionar elementos a `lista` (utilize a célula vazia abaixo; isso não é uma tarefa ainda)."
   ]
  },
  {
   "cell_type": "code",
   "execution_count": 5,
   "metadata": {
    "collapsed": false
   },
   "outputs": [],
   "source": [
    "outra_lista.append(25)\n"
   ]
  },
  {
   "cell_type": "markdown",
   "metadata": {},
   "source": [
    "Até agora, vocês viram o `for` utilizado somente em conjunto com a função `range`, por exemplo:\n",
    "\n",
    "    for i in range(10):\n",
    "        print(i)\n",
    "\n",
    "Essa é uma parte de como o `for` realmente opera. Na realidade, o `for` itera sobre *elementos de uma lista*. Qualquer lista. O `i` no exemplo acima é uma variável como qualquer outra e pode ter o nome que você quiser. \n",
    "\n",
    "Por exemplo, para iterar sobre os elementos de nossa `lista`:"
   ]
  },
  {
   "cell_type": "code",
   "execution_count": 7,
   "metadata": {
    "collapsed": false
   },
   "outputs": [
    {
     "ename": "NameError",
     "evalue": "name 'lista' is not defined",
     "output_type": "error",
     "traceback": [
      "\u001b[0;31m---------------------------------------------------------------------------\u001b[0m",
      "\u001b[0;31mNameError\u001b[0m                                 Traceback (most recent call last)",
      "\u001b[0;32m<ipython-input-7-d22584a53898>\u001b[0m in \u001b[0;36m<module>\u001b[0;34m()\u001b[0m\n\u001b[0;32m----> 1\u001b[0;31m \u001b[0;32mfor\u001b[0m \u001b[0mvalor\u001b[0m \u001b[0;32min\u001b[0m \u001b[0mlista\u001b[0m\u001b[0;34m:\u001b[0m\u001b[0;34m\u001b[0m\u001b[0m\n\u001b[0m\u001b[1;32m      2\u001b[0m     \u001b[0mprint\u001b[0m\u001b[0;34m(\u001b[0m\u001b[0;34m\"valor ==\"\u001b[0m\u001b[0;34m,\u001b[0m \u001b[0mvalor\u001b[0m\u001b[0;34m)\u001b[0m\u001b[0;34m\u001b[0m\u001b[0m\n",
      "\u001b[0;31mNameError\u001b[0m: name 'lista' is not defined"
     ]
    }
   ],
   "source": [
    "for valor in lista:\n",
    "    print(\"valor ==\", valor)"
   ]
  },
  {
   "cell_type": "markdown",
   "metadata": {},
   "source": [
    "## Lendo dados de arquivos\n",
    "\n",
    "No mundo real, vocês precisarão rotineiramente trabalhar com dados que estão salvos em arquivos. Um formato muito utilizando é o CSV (Comma Separated Values). Nas tarefas dessa prática, vocês terão que analisar os dados do arquivo `dados.csv` que está junto no repositório. Abra esse arquivo em um editor de texto (Notepad++ ou SublimeText) para ver como é o arquivo. A primeira coluna do arquivo representa a hora do dia (de 0 a 24) e a segunda coluna representa um dado fictício de temperatura.\n",
    "\n",
    "Precisamos carregar esses dados para duas listas (uma para as horas e outra para as temperaturas) para podermos trabalhar com eles no Python. Para abrir um arquivo para leitura, utilize a função `open` do Python. Por exemplo: "
   ]
  },
  {
   "cell_type": "code",
   "execution_count": 9,
   "metadata": {
    "collapsed": true
   },
   "outputs": [],
   "source": [
    "arquivo = open('dados.csv')"
   ]
  },
  {
   "cell_type": "markdown",
   "metadata": {},
   "source": [
    "A variável produzida por `open` possui alguns métodos para acessar o conteúdo do arquivo em formato de texto (strings).\n",
    "Um desses métodos é o `readline`. Esse método lê a próxima linha do arquivo e a retorna como texto. Por exemplo:"
   ]
  },
  {
   "cell_type": "code",
   "execution_count": 10,
   "metadata": {
    "collapsed": false
   },
   "outputs": [
    {
     "name": "stdout",
     "output_type": "stream",
     "text": [
      "0, 0\n",
      "\n"
     ]
    }
   ],
   "source": [
    "linha = arquivo.readline()\n",
    "print(linha)"
   ]
  },
  {
   "cell_type": "markdown",
   "metadata": {},
   "source": [
    "Rode a célula acima novamente e veja o que acontece.\n"
   ]
  },
  {
   "cell_type": "markdown",
   "metadata": {},
   "source": [
    "Quanto terminamos de utilizar o arquivo, devemos fechá-lo (como as figuras)."
   ]
  },
  {
   "cell_type": "code",
   "execution_count": 11,
   "metadata": {
    "collapsed": true
   },
   "outputs": [],
   "source": [
    "arquivo.close()"
   ]
  },
  {
   "cell_type": "markdown",
   "metadata": {},
   "source": [
    "Uma vez obtida a linha em formato de texto, precisamo separar os dois valores. Os objetos de texto (strings) possuem diversos métodos para trabalharmos com eles. Um desses vocês já conhecem, o método `format`. Para ver uma lista dos métodos disponíveis, digite na célula abaixo `linha.` e aperte a tecla TAB."
   ]
  },
  {
   "cell_type": "code",
   "execution_count": 61,
   "metadata": {
    "collapsed": false
   },
   "outputs": [],
   "source": [
    "lista = linha.split(',')"
   ]
  },
  {
   "cell_type": "markdown",
   "metadata": {},
   "source": [
    "O método que queremos chama-se `split`. Ele faz exatamente o que o nome diz: quebra uma string em várias. O argumento que é passado para ele é o texto que separa os diversos blocos. Por exemplo:"
   ]
  },
  {
   "cell_type": "code",
   "execution_count": 18,
   "metadata": {
    "collapsed": false
   },
   "outputs": [
    {
     "name": "stdout",
     "output_type": "stream",
     "text": [
      "['Texto', 'separado', 'por', 'interrogacoes']\n"
     ]
    }
   ],
   "source": [
    "texto = \"Texto ? separado ? por ? interrogacoes\"\n",
    "blocos = texto.split(' ? ')\n",
    "print(blocos)"
   ]
  },
  {
   "cell_type": "markdown",
   "metadata": {},
   "source": [
    "Note que o resultado produzido por `split` é uma lista."
   ]
  },
  {
   "cell_type": "code",
   "execution_count": 22,
   "metadata": {
    "collapsed": false
   },
   "outputs": [
    {
     "data": {
      "text/plain": [
       "'Texto'"
      ]
     },
     "execution_count": 22,
     "metadata": {},
     "output_type": "execute_result"
    }
   ],
   "source": [
    "blocos[0]"
   ]
  },
  {
   "cell_type": "markdown",
   "metadata": {},
   "source": [
    "Experimente separar a linha do arquivo que vemos acima nos dois valores que ela contem (utilize a célula vazia abaixo; isso não é uma tarefa ainda)."
   ]
  },
  {
   "cell_type": "code",
   "execution_count": 28,
   "metadata": {
    "collapsed": false
   },
   "outputs": [
    {
     "data": {
      "text/plain": [
       "'0.3'"
      ]
     },
     "execution_count": 28,
     "metadata": {},
     "output_type": "execute_result"
    }
   ],
   "source": [
    "lista[0]"
   ]
  },
  {
   "cell_type": "markdown",
   "metadata": {},
   "source": [
    "Depois que conseguirmos nossos valores em formato texto, precisamos convertê-los para números. O Python nos fornece algumas funções para isso: `int` (para números inteiros), `float` (para números \"reais\" ou ponto flutuante) e `complex` (para números complexos). Por exemplo: "
   ]
  },
  {
   "cell_type": "code",
   "execution_count": 29,
   "metadata": {
    "collapsed": false
   },
   "outputs": [
    {
     "name": "stdout",
     "output_type": "stream",
     "text": [
      "8889\n"
     ]
    }
   ],
   "source": [
    "valor_em_texto = \"8888\"\n",
    "valor = int(valor_em_texto)\n",
    "print(valor + 1)"
   ]
  },
  {
   "cell_type": "code",
   "execution_count": 98,
   "metadata": {
    "collapsed": false
   },
   "outputs": [
    {
     "ename": "TypeError",
     "evalue": "Can't convert 'int' object to str implicitly",
     "output_type": "error",
     "traceback": [
      "\u001b[1;31m---------------------------------------------------------------------------\u001b[0m",
      "\u001b[1;31mTypeError\u001b[0m                                 Traceback (most recent call last)",
      "\u001b[1;32m<ipython-input-98-1e06239598a6>\u001b[0m in \u001b[0;36m<module>\u001b[1;34m()\u001b[0m\n\u001b[1;32m----> 1\u001b[1;33m \u001b[0mvalor_em_texto\u001b[0m \u001b[1;33m+\u001b[0m\u001b[1;36m1\u001b[0m\u001b[1;33m\u001b[0m\u001b[0m\n\u001b[0m",
      "\u001b[1;31mTypeError\u001b[0m: Can't convert 'int' object to str implicitly"
     ]
    }
   ],
   "source": [
    "valor_em_texto +1"
   ]
  },
  {
   "cell_type": "code",
   "execution_count": 30,
   "metadata": {
    "collapsed": false
   },
   "outputs": [
    {
     "name": "stdout",
     "output_type": "stream",
     "text": [
      "2.1\n"
     ]
    }
   ],
   "source": [
    "float_em_texto = \"4.2\"\n",
    "valor = float(float_em_texto)\n",
    "print(valor/2)"
   ]
  },
  {
   "cell_type": "markdown",
   "metadata": {},
   "source": [
    "Por último, podemos tratar a variável `arquivo` retornada por `open` como uma lista das linhas do arquivo. Isso quer dizer que podemos utilizá-la em um `for` como:"
   ]
  },
  {
   "cell_type": "code",
   "execution_count": 60,
   "metadata": {
    "collapsed": false
   },
   "outputs": [
    {
     "name": "stdout",
     "output_type": "stream",
     "text": [
      "0, 0\n",
      "\n",
      "0.1, 0.61464164\n",
      "\n",
      "0.2, 1.0320324\n",
      "\n",
      "0.3, 1.1238251\n",
      "\n",
      "0.4, 0.87540985\n",
      "\n",
      "0.5, 0.39101585\n",
      "\n",
      "0.6, -0.14270041\n",
      "\n",
      "0.7, -0.52186154\n",
      "\n",
      "0.8, -0.59659114\n",
      "\n",
      "0.9, -0.32337174\n",
      "\n",
      "1, 0.21975159\n",
      "\n",
      "1.1, 0.86043287\n",
      "\n",
      "1.2, 1.3922289\n",
      "\n",
      "1.3, 1.6467141\n",
      "\n",
      "1.4, 1.5523145\n",
      "\n",
      "1.5, 1.1593091\n",
      "\n",
      "1.6, 0.62226425\n",
      "\n",
      "1.7, 0.14603706\n",
      "\n",
      "1.8, -0.085788363\n",
      "\n",
      "1.9, 0.024965949\n",
      "\n",
      "2, 0.45677374\n",
      "\n",
      "2.1, 1.0759225\n",
      "\n",
      "2.2, 1.6832216\n",
      "\n",
      "2.3, 2.0835833\n",
      "\n",
      "2.4, 2.1541709\n",
      "\n",
      "2.5, 1.8873076\n",
      "\n",
      "2.6, 1.3931564\n",
      "\n",
      "2.7, 0.8612352\n",
      "\n",
      "2.8, 0.49421121\n",
      "\n",
      "2.9, 0.43710175\n",
      "\n",
      "3, 0.72661379\n",
      "\n",
      "3.1, 1.2783195\n",
      "\n",
      "3.2, 1.9161477\n",
      "\n",
      "3.3, 2.4338889\n",
      "\n",
      "3.4, 2.6672284\n",
      "\n",
      "3.5, 2.5511447\n",
      "\n",
      "3.6, 2.1426217\n",
      "\n",
      "3.7, 1.6007407\n",
      "\n",
      "3.8, 1.1311076\n",
      "\n",
      "3.9, 0.91402652\n",
      "\n",
      "4, 1.0415133\n",
      "\n",
      "4.1, 1.48515\n",
      "\n",
      "4.2, 2.1060103\n",
      "\n",
      "4.3, 2.703189\n",
      "\n",
      "4.4, 3.0839824\n",
      "\n",
      "4.5, 3.1312036\n",
      "\n",
      "4.6, 2.8441177\n",
      "\n",
      "4.7, 2.3386969\n",
      "\n",
      "4.8, 1.8071066\n",
      "\n",
      "4.9, 1.4505748\n",
      "\n",
      "5, 1.4090961\n",
      "\n",
      "5.1, 1.7125255\n",
      "\n",
      "5.2, 2.2701481\n",
      "\n",
      "5.3, 2.902367\n",
      "\n",
      "5.4, 3.4034394\n",
      "\n",
      "5.5, 3.613348\n",
      "\n",
      "5.6, 3.4736972\n",
      "\n",
      "5.7, 3.0481116\n",
      "\n",
      "5.8, 2.5000081\n",
      "\n",
      "5.9, 2.0355084\n",
      "\n",
      "6, 1.8314335\n",
      "\n",
      "6.1, 1.9735332\n",
      "\n",
      "6.2, 2.4265299\n",
      "\n",
      "6.3, 3.0464409\n",
      "\n",
      "6.4, 3.6308739\n",
      "\n",
      "6.5, 3.9897274\n",
      "\n",
      "6.6, 4.0115968\n",
      "\n",
      "6.7, 3.7026903\n",
      "\n",
      "6.8, 3.1846584\n",
      "\n",
      "6.9, 2.6520967\n",
      "\n",
      "7, 2.3045669\n",
      "\n",
      "7.1, 2.2768823\n",
      "\n",
      "7.2, 2.5920127\n",
      "\n",
      "7.3, 3.153059\n",
      "\n",
      "7.4, 3.7771014\n",
      "\n",
      "7.5, 4.2590973\n",
      "\n",
      "7.6, 4.4435073\n",
      "\n",
      "7.7, 4.2786283\n",
      "\n",
      "7.8, 3.8346536\n",
      "\n",
      "7.9, 3.2791511\n",
      "\n",
      "8, 2.8185258\n",
      "\n",
      "8.1, 2.6259153\n",
      "\n",
      "8.2, 2.7807066\n",
      "\n",
      "8.3, 3.2408029\n",
      "\n",
      "8.4, 3.8573278\n",
      "\n",
      "8.5, 4.4266312\n",
      "\n",
      "8.6, 4.7614286\n",
      "\n",
      "8.7, 4.7562241\n",
      "\n",
      "8.8, 4.424162\n",
      "\n",
      "8.9, 3.8924338\n",
      "\n",
      "9, 3.3578455\n",
      "\n",
      "9.1, 3.0180666\n",
      "\n",
      "9.2, 3.0025774\n",
      "\n",
      "9.3, 3.3274363\n",
      "\n",
      "9.4, 3.8896698\n",
      "\n",
      "9.5, 4.5032423\n",
      "\n",
      "9.6, 4.9640432\n",
      "\n",
      "9.7, 5.1211873\n",
      "\n",
      "9.8, 4.9297225\n",
      "\n",
      "9.9, 4.4663317\n",
      "\n",
      "10, 3.9025443\n",
      "\n",
      "10.1, 3.4448153\n",
      "\n",
      "10.2, 3.2624035\n",
      "\n",
      "10.3, 3.4282434\n",
      "\n",
      "10.4, 3.8934667\n",
      "\n",
      "10.5, 4.5044718\n",
      "\n",
      "10.6, 5.0565811\n",
      "\n",
      "10.7, 5.3655393\n",
      "\n",
      "10.8, 5.3318785\n",
      "\n",
      "10.9, 4.9756644\n",
      "\n",
      "11, 4.4294856\n",
      "\n",
      "11.1, 3.8921364\n",
      "\n",
      "11.2, 3.5591707\n",
      "\n",
      "11.3, 3.5545891\n",
      "\n",
      "11.4, 3.8875211\n",
      "\n",
      "11.5, 4.4490349\n",
      "\n",
      "11.6, 5.05019\n",
      "\n",
      "11.7, 5.4880385\n",
      "\n",
      "11.8, 5.6165203\n",
      "\n",
      "11.9, 5.3974851\n",
      "\n",
      "12, 4.9140188\n",
      "\n",
      "12.1, 4.3414187\n",
      "\n",
      "12.2, 3.8859563\n",
      "\n",
      "12.3, 3.7128201\n",
      "\n",
      "12.4, 3.8884101\n",
      "\n",
      "12.5, 4.3571415\n",
      "\n",
      "12.6, 4.9608616\n",
      "\n",
      "12.7, 5.4940968\n",
      "\n",
      "12.8, 5.7758294\n",
      "\n",
      "12.9, 5.7127321\n",
      "\n",
      "13, 5.3317694\n",
      "\n",
      "13.1, 4.7707774\n",
      "\n",
      "13.2, 4.2303136\n",
      "\n",
      "13.3, 3.9035954\n",
      "\n",
      "13.4, 3.9090038\n",
      "\n",
      "13.5, 4.2487288\n",
      "\n",
      "13.6, 4.8080039\n",
      "\n",
      "13.7, 5.3951972\n",
      "\n",
      "13.8, 5.8087533\n",
      "\n",
      "13.9, 5.9076023\n",
      "\n",
      "14, 5.660439\n",
      "\n",
      "14.1, 5.1566584\n",
      "\n",
      "14.2, 4.5751275\n",
      "\n",
      "14.3, 4.1217012\n",
      "\n",
      "14.4, 3.957311\n",
      "\n",
      "14.5, 4.1417471\n",
      "\n",
      "14.6, 4.6127715\n",
      "\n",
      "14.7, 5.2078593\n",
      "\n",
      "14.8, 5.720973\n",
      "\n",
      "14.9, 5.9745374\n",
      "\n",
      "15, 5.8814716\n",
      "\n",
      "15.1, 5.4756083\n",
      "\n",
      "15.2, 4.8998752\n",
      "\n",
      "15.3, 4.3563664\n",
      "\n",
      "15.4, 4.0357444\n",
      "\n",
      "15.5, 4.0506367\n",
      "\n",
      "15.6, 4.3962913\n",
      "\n",
      "15.7, 4.952237\n",
      "\n",
      "15.8, 5.5243671\n",
      "\n",
      "15.9, 5.9127468\n",
      "\n",
      "16, 5.9814558\n",
      "\n",
      "16.1, 5.7060695\n",
      "\n",
      "16.2, 5.1821911\n",
      "\n",
      "16.3, 4.5920549\n",
      "\n",
      "16.4, 4.1408664\n",
      "\n",
      "16.5, 3.9851183\n",
      "\n",
      "16.6, 4.1779235\n",
      "\n",
      "16.7, 4.650461\n",
      "\n",
      "16.8, 5.2360174\n",
      "\n",
      "16.9, 5.7282246\n",
      "\n",
      "17, 5.9531508\n",
      "\n",
      "17.1, 5.8300596\n",
      "\n",
      "17.2, 5.3996139\n",
      "\n",
      "17.3, 4.8096715\n",
      "\n",
      "17.4, 4.2636343\n",
      "\n",
      "17.5, 3.9493945\n",
      "\n",
      "17.6, 3.9736985\n",
      "\n",
      "17.7, 4.3248581\n",
      "\n",
      "17.8, 4.8768333\n",
      "\n",
      "17.9, 5.4332623\n",
      "\n",
      "18, 5.7960567\n",
      "\n",
      "18.1, 5.8345998\n",
      "\n",
      "18.2, 5.5313751\n",
      "\n",
      "18.3, 4.988086\n",
      "\n",
      "18.4, 4.3901277\n",
      "\n",
      "18.5, 3.9418246\n",
      "\n",
      "18.6, 3.7950534\n",
      "\n",
      "18.7, 3.9961897\n",
      "\n",
      "18.8, 4.4699073\n",
      "\n",
      "18.9, 5.0454927\n",
      "\n",
      "19, 5.5164808\n",
      "\n",
      "19.1, 5.7127796\n",
      "\n",
      "19.2, 5.5600885\n",
      "\n",
      "19.3, 5.1058548\n",
      "\n",
      "19.4, 4.5026988\n",
      "\n",
      "19.5, 3.9551006\n",
      "\n",
      "19.6, 3.6479693\n",
      "\n",
      "19.7, 3.6820497\n",
      "\n",
      "19.8, 4.0387303\n",
      "\n",
      "19.9, 4.5865447\n",
      "\n",
      "20, 5.1270983\n",
      "\n",
      "20.1, 5.4643731\n",
      "\n",
      "20.2, 5.4732034\n",
      "\n",
      "20.3, 5.1430008\n",
      "\n",
      "20.4, 4.5814535\n",
      "\n",
      "20.5, 3.9769084\n",
      "\n",
      "20.6, 3.5325771\n",
      "\n",
      "20.7, 3.395549\n",
      "\n",
      "20.8, 3.6054095\n",
      "\n",
      "20.9, 4.0804126\n",
      "\n",
      "21, 4.6460377\n",
      "\n",
      "21.1, 5.0959559\n",
      "\n",
      "21.2, 5.2641073\n",
      "\n",
      "21.3, 5.0827113\n",
      "\n",
      "21.4, 4.6059455\n",
      "\n",
      "21.5, 3.9910206\n",
      "\n",
      "21.6, 3.443263\n",
      "\n",
      "21.7, 3.1443897\n",
      "\n",
      "21.8, 3.18903\n",
      "\n",
      "21.9, 3.5516699\n",
      "\n",
      "22, 4.0955656\n",
      "\n",
      "22.1, 4.6205135\n",
      "\n",
      "22.2, 4.9327876\n",
      "\n",
      "22.3, 4.912815\n",
      "\n",
      "22.4, 4.5569469\n",
      "\n",
      "22.5, 3.9787347\n",
      "\n",
      "22.6, 3.3692636\n",
      "\n",
      "22.7, 2.930403\n",
      "\n",
      "22.8, 2.8042882\n",
      "\n",
      "22.9, 3.0236697\n",
      "\n",
      "23, 3.5004738\n",
      "\n",
      "23.1, 4.0565703\n",
      "\n",
      "23.2, 4.4859995\n",
      "\n",
      "23.3, 4.6269216\n",
      "\n",
      "23.4, 4.4181522\n",
      "\n",
      "23.5, 3.9205381\n",
      "\n",
      "23.6, 3.2957021\n",
      "\n",
      "23.7, 2.749585\n",
      "\n",
      "23.8, 2.460506\n",
      "\n",
      "23.9, 2.5168717\n",
      "\n"
     ]
    }
   ],
   "source": [
    "arquivo = open('dados.csv')\n",
    "num_linhas = 0\n",
    "for linha in arquivo:\n",
    "    num_linhas = num_linhas + 1\n",
    "    print(linha)\n",
    "arquivo.close()"
   ]
  },
  {
   "cell_type": "markdown",
   "metadata": {},
   "source": [
    "Experimente imprimir todas as linhas do arquivo `README.md` (utilize a célula vazia abaixo; isso não é uma tarefa ainda)."
   ]
  },
  {
   "cell_type": "code",
   "execution_count": 32,
   "metadata": {
    "collapsed": false
   },
   "outputs": [
    {
     "name": "stdout",
     "output_type": "stream",
     "text": [
      "120\n"
     ]
    }
   ],
   "source": [
    "arquivo = open('README.md')\n",
    "num_linhas = 0\n",
    "for linha in arquivo:\n",
    "    num_linhas = num_linhas + 1\n",
    "arquivo.close()\n",
    "print(num_linhas)"
   ]
  },
  {
   "cell_type": "markdown",
   "metadata": {},
   "source": [
    "## **IMPORTANTE**: Cada tarefa abaixo deve ser feita por um membro DIFERENTE do grupo. Os outros devem ajudá-lo mas a pessoa digitando deve ser quem está encarregado da tarefa."
   ]
  },
  {
   "cell_type": "markdown",
   "metadata": {},
   "source": [
    "## Tarefa 1\n",
    "\n",
    "* Carregue os dados do arquivo `dados.csv` em duas listas: `tempos` e `dados` (os nomes precisam ser esses!). `tempos` deve conter os valores da primeira coluna e `dados` os da segunda.\n",
    "* Faça um gráfico dos hora x temperatura (lembre-se de utilizar a mágia `%matplotlib inline`).\n",
    "\n",
    "Você pode utilizar quantas células achar necessário para realizar a tarefa (use o menu \"Insert\"). Inclua comentátios para explicar o que você está fazendo."
   ]
  },
  {
   "cell_type": "code",
<<<<<<< HEAD
   "execution_count": 75,
=======
   "execution_count": 2,
>>>>>>> 566a6e59456794e9e375a23f52819bec3f9e0b86
   "metadata": {
    "collapsed": false,
    "scrolled": true
   },
   "outputs": [
    {
     "name": "stdout",
     "output_type": "stream",
     "text": [
      "0, 0\n",
      "\n",
      "0.1, 0.61464164\n",
      "\n",
      "0.2, 1.0320324\n",
      "\n",
      "0.3, 1.1238251\n",
      "\n",
      "0.4, 0.87540985\n",
      "\n",
      "0.5, 0.39101585\n",
      "\n",
      "0.6, -0.14270041\n",
      "\n",
      "0.7, -0.52186154\n",
      "\n",
      "0.8, -0.59659114\n",
      "\n",
      "0.9, -0.32337174\n",
      "\n",
      "1, 0.21975159\n",
      "\n",
      "1.1, 0.86043287\n",
      "\n",
      "1.2, 1.3922289\n",
      "\n",
      "1.3, 1.6467141\n",
      "\n",
      "1.4, 1.5523145\n",
      "\n",
      "1.5, 1.1593091\n",
      "\n",
      "1.6, 0.62226425\n",
      "\n",
      "1.7, 0.14603706\n",
      "\n",
      "1.8, -0.085788363\n",
      "\n",
      "1.9, 0.024965949\n",
      "\n",
      "2, 0.45677374\n",
      "\n",
      "2.1, 1.0759225\n",
      "\n",
      "2.2, 1.6832216\n",
      "\n",
      "2.3, 2.0835833\n",
      "\n",
      "2.4, 2.1541709\n",
      "\n",
      "2.5, 1.8873076\n",
      "\n",
      "2.6, 1.3931564\n",
      "\n",
      "2.7, 0.8612352\n",
      "\n",
      "2.8, 0.49421121\n",
      "\n",
      "2.9, 0.43710175\n",
      "\n",
      "3, 0.72661379\n",
      "\n",
      "3.1, 1.2783195\n",
      "\n",
      "3.2, 1.9161477\n",
      "\n",
      "3.3, 2.4338889\n",
      "\n",
      "3.4, 2.6672284\n",
      "\n",
      "3.5, 2.5511447\n",
      "\n",
      "3.6, 2.1426217\n",
      "\n",
      "3.7, 1.6007407\n",
      "\n",
      "3.8, 1.1311076\n",
      "\n",
      "3.9, 0.91402652\n",
      "\n",
      "4, 1.0415133\n",
      "\n",
      "4.1, 1.48515\n",
      "\n",
      "4.2, 2.1060103\n",
      "\n",
      "4.3, 2.703189\n",
      "\n",
      "4.4, 3.0839824\n",
      "\n",
      "4.5, 3.1312036\n",
      "\n",
      "4.6, 2.8441177\n",
      "\n",
      "4.7, 2.3386969\n",
      "\n",
      "4.8, 1.8071066\n",
      "\n",
      "4.9, 1.4505748\n",
      "\n",
      "5, 1.4090961\n",
      "\n",
      "5.1, 1.7125255\n",
      "\n",
      "5.2, 2.2701481\n",
      "\n",
      "5.3, 2.902367\n",
      "\n",
      "5.4, 3.4034394\n",
      "\n",
      "5.5, 3.613348\n",
      "\n",
      "5.6, 3.4736972\n",
      "\n",
      "5.7, 3.0481116\n",
      "\n",
      "5.8, 2.5000081\n",
      "\n",
      "5.9, 2.0355084\n",
      "\n",
      "6, 1.8314335\n",
      "\n",
      "6.1, 1.9735332\n",
      "\n",
      "6.2, 2.4265299\n",
      "\n",
      "6.3, 3.0464409\n",
      "\n",
      "6.4, 3.6308739\n",
      "\n",
      "6.5, 3.9897274\n",
      "\n",
      "6.6, 4.0115968\n",
      "\n",
      "6.7, 3.7026903\n",
      "\n",
      "6.8, 3.1846584\n",
      "\n",
      "6.9, 2.6520967\n",
      "\n",
      "7, 2.3045669\n",
      "\n",
      "7.1, 2.2768823\n",
      "\n",
      "7.2, 2.5920127\n",
      "\n",
      "7.3, 3.153059\n",
      "\n",
      "7.4, 3.7771014\n",
      "\n",
      "7.5, 4.2590973\n",
      "\n",
      "7.6, 4.4435073\n",
      "\n",
      "7.7, 4.2786283\n",
      "\n",
      "7.8, 3.8346536\n",
      "\n",
      "7.9, 3.2791511\n",
      "\n",
      "8, 2.8185258\n",
      "\n",
      "8.1, 2.6259153\n",
      "\n",
      "8.2, 2.7807066\n",
      "\n",
      "8.3, 3.2408029\n",
      "\n",
      "8.4, 3.8573278\n",
      "\n",
      "8.5, 4.4266312\n",
      "\n",
      "8.6, 4.7614286\n",
      "\n",
      "8.7, 4.7562241\n",
      "\n",
      "8.8, 4.424162\n",
      "\n",
      "8.9, 3.8924338\n",
      "\n",
      "9, 3.3578455\n",
      "\n",
      "9.1, 3.0180666\n",
      "\n",
      "9.2, 3.0025774\n",
      "\n",
      "9.3, 3.3274363\n",
      "\n",
      "9.4, 3.8896698\n",
      "\n",
      "9.5, 4.5032423\n",
      "\n",
      "9.6, 4.9640432\n",
      "\n",
      "9.7, 5.1211873\n",
      "\n",
      "9.8, 4.9297225\n",
      "\n",
      "9.9, 4.4663317\n",
      "\n",
      "10, 3.9025443\n",
      "\n",
      "10.1, 3.4448153\n",
      "\n",
      "10.2, 3.2624035\n",
      "\n",
      "10.3, 3.4282434\n",
      "\n",
      "10.4, 3.8934667\n",
      "\n",
      "10.5, 4.5044718\n",
      "\n",
      "10.6, 5.0565811\n",
      "\n",
      "10.7, 5.3655393\n",
      "\n",
      "10.8, 5.3318785\n",
      "\n",
      "10.9, 4.9756644\n",
      "\n",
      "11, 4.4294856\n",
      "\n",
      "11.1, 3.8921364\n",
      "\n",
      "11.2, 3.5591707\n",
      "\n",
      "11.3, 3.5545891\n",
      "\n",
      "11.4, 3.8875211\n",
      "\n",
      "11.5, 4.4490349\n",
      "\n",
      "11.6, 5.05019\n",
      "\n",
      "11.7, 5.4880385\n",
      "\n",
      "11.8, 5.6165203\n",
      "\n",
      "11.9, 5.3974851\n",
      "\n",
      "12, 4.9140188\n",
      "\n",
      "12.1, 4.3414187\n",
      "\n",
      "12.2, 3.8859563\n",
      "\n",
      "12.3, 3.7128201\n",
      "\n",
      "12.4, 3.8884101\n",
      "\n",
      "12.5, 4.3571415\n",
      "\n",
      "12.6, 4.9608616\n",
      "\n",
      "12.7, 5.4940968\n",
      "\n",
      "12.8, 5.7758294\n",
      "\n",
      "12.9, 5.7127321\n",
      "\n",
      "13, 5.3317694\n",
      "\n",
      "13.1, 4.7707774\n",
      "\n",
      "13.2, 4.2303136\n",
      "\n",
      "13.3, 3.9035954\n",
      "\n",
      "13.4, 3.9090038\n",
      "\n",
      "13.5, 4.2487288\n",
      "\n",
      "13.6, 4.8080039\n",
      "\n",
      "13.7, 5.3951972\n",
      "\n",
      "13.8, 5.8087533\n",
      "\n",
      "13.9, 5.9076023\n",
      "\n",
      "14, 5.660439\n",
      "\n",
      "14.1, 5.1566584\n",
      "\n",
      "14.2, 4.5751275\n",
      "\n",
      "14.3, 4.1217012\n",
      "\n",
      "14.4, 3.957311\n",
      "\n",
      "14.5, 4.1417471\n",
      "\n",
      "14.6, 4.6127715\n",
      "\n",
      "14.7, 5.2078593\n",
      "\n",
      "14.8, 5.720973\n",
      "\n",
      "14.9, 5.9745374\n",
      "\n",
      "15, 5.8814716\n",
      "\n",
      "15.1, 5.4756083\n",
      "\n",
      "15.2, 4.8998752\n",
      "\n",
      "15.3, 4.3563664\n",
      "\n",
      "15.4, 4.0357444\n",
      "\n",
      "15.5, 4.0506367\n",
      "\n",
      "15.6, 4.3962913\n",
      "\n",
      "15.7, 4.952237\n",
      "\n",
      "15.8, 5.5243671\n",
      "\n",
      "15.9, 5.9127468\n",
      "\n",
      "16, 5.9814558\n",
      "\n",
      "16.1, 5.7060695\n",
      "\n",
      "16.2, 5.1821911\n",
      "\n",
      "16.3, 4.5920549\n",
      "\n",
      "16.4, 4.1408664\n",
      "\n",
      "16.5, 3.9851183\n",
      "\n",
      "16.6, 4.1779235\n",
      "\n",
      "16.7, 4.650461\n",
      "\n",
      "16.8, 5.2360174\n",
      "\n",
      "16.9, 5.7282246\n",
      "\n",
      "17, 5.9531508\n",
      "\n",
      "17.1, 5.8300596\n",
      "\n",
      "17.2, 5.3996139\n",
      "\n",
      "17.3, 4.8096715\n",
      "\n",
      "17.4, 4.2636343\n",
      "\n",
      "17.5, 3.9493945\n",
      "\n",
      "17.6, 3.9736985\n",
      "\n",
      "17.7, 4.3248581\n",
      "\n",
      "17.8, 4.8768333\n",
      "\n",
      "17.9, 5.4332623\n",
      "\n",
      "18, 5.7960567\n",
      "\n",
      "18.1, 5.8345998\n",
      "\n",
      "18.2, 5.5313751\n",
      "\n",
      "18.3, 4.988086\n",
      "\n",
      "18.4, 4.3901277\n",
      "\n",
      "18.5, 3.9418246\n",
      "\n",
      "18.6, 3.7950534\n",
      "\n",
      "18.7, 3.9961897\n",
      "\n",
      "18.8, 4.4699073\n",
      "\n",
      "18.9, 5.0454927\n",
      "\n",
      "19, 5.5164808\n",
      "\n",
      "19.1, 5.7127796\n",
      "\n",
      "19.2, 5.5600885\n",
      "\n",
      "19.3, 5.1058548\n",
      "\n",
      "19.4, 4.5026988\n",
      "\n",
      "19.5, 3.9551006\n",
      "\n",
      "19.6, 3.6479693\n",
      "\n",
      "19.7, 3.6820497\n",
      "\n",
      "19.8, 4.0387303\n",
      "\n",
      "19.9, 4.5865447\n",
      "\n",
      "20, 5.1270983\n",
      "\n",
      "20.1, 5.4643731\n",
      "\n",
      "20.2, 5.4732034\n",
      "\n",
      "20.3, 5.1430008\n",
      "\n",
      "20.4, 4.5814535\n",
      "\n",
      "20.5, 3.9769084\n",
      "\n",
      "20.6, 3.5325771\n",
      "\n",
      "20.7, 3.395549\n",
      "\n",
      "20.8, 3.6054095\n",
      "\n",
      "20.9, 4.0804126\n",
      "\n",
      "21, 4.6460377\n",
      "\n",
      "21.1, 5.0959559\n",
      "\n",
      "21.2, 5.2641073\n",
      "\n",
      "21.3, 5.0827113\n",
      "\n",
      "21.4, 4.6059455\n",
      "\n",
      "21.5, 3.9910206\n",
      "\n",
      "21.6, 3.443263\n",
      "\n",
      "21.7, 3.1443897\n",
      "\n",
      "21.8, 3.18903\n",
      "\n",
      "21.9, 3.5516699\n",
      "\n",
      "22, 4.0955656\n",
      "\n",
      "22.1, 4.6205135\n",
      "\n",
      "22.2, 4.9327876\n",
      "\n",
      "22.3, 4.912815\n",
      "\n",
      "22.4, 4.5569469\n",
      "\n",
      "22.5, 3.9787347\n",
      "\n",
      "22.6, 3.3692636\n",
      "\n",
      "22.7, 2.930403\n",
      "\n",
      "22.8, 2.8042882\n",
      "\n",
      "22.9, 3.0236697\n",
      "\n",
      "23, 3.5004738\n",
      "\n",
      "23.1, 4.0565703\n",
      "\n",
      "23.2, 4.4859995\n",
      "\n",
      "23.3, 4.6269216\n",
      "\n",
      "23.4, 4.4181522\n",
      "\n",
      "23.5, 3.9205381\n",
      "\n",
      "23.6, 3.2957021\n",
      "\n",
      "23.7, 2.749585\n",
      "\n",
      "23.8, 2.460506\n",
      "\n",
      "23.9, 2.5168717\n",
      "\n"
     ]
    }
   ],
   "source": [
    "arquivo = open('dados.csv')\n",
    "for linhas in arquivo:\n",
    "    print(linhas)\n",
    "arquivo.close()"
   ]
  },
  {
   "cell_type": "code",
<<<<<<< HEAD
   "execution_count": 77,
=======
   "execution_count": 3,
>>>>>>> 566a6e59456794e9e375a23f52819bec3f9e0b86
   "metadata": {
    "collapsed": false,
    "scrolled": true
   },
   "outputs": [
    {
     "data": {
      "text/plain": [
<<<<<<< HEAD
       "<matplotlib.text.Text at 0x1068f5630>"
      ]
     },
     "execution_count": 77,
=======
       "<matplotlib.text.Text at 0x71e05c0>"
      ]
     },
     "execution_count": 3,
>>>>>>> 566a6e59456794e9e375a23f52819bec3f9e0b86
     "metadata": {},
     "output_type": "execute_result"
    },
    {
     "data": {
      "image/png": "iVBORw0KGgoAAAANSUhEUgAAAYIAAAEPCAYAAABP1MOPAAAABHNCSVQICAgIfAhkiAAAAAlwSFlz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\nSUVORK5CYII=\n",
      "text/plain": [
<<<<<<< HEAD
       "<matplotlib.figure.Figure at 0x1069dff28>"
=======
       "<matplotlib.figure.Figure at 0x6f7f630>"
>>>>>>> 566a6e59456794e9e375a23f52819bec3f9e0b86
      ]
     },
     "metadata": {},
     "output_type": "display_data"
    }
   ],
   "source": [
    "tempos = []\n",
    "dados = []\n",
    "arquivo=open('dados.csv')\n",
    "for linha in arquivo:\n",
    "    lista = linha.split(', ')\n",
    "    tempos.append(float(lista[0]))\n",
    "    dados.append(float(lista[1]))\n",
    "\n",
    "import matplotlib.pyplot as plt\n",
    "\n",
    "%matplotlib inline\n",
    "plt.figure()\n",
    "plt.plot(tempos, dados, '-k')\n",
    "plt.xlabel('hora')\n",
    "plt.ylabel('temperatura')"
   ]
  },
  {
   "cell_type": "markdown",
   "metadata": {},
   "source": [
    "### Resultado esperado\n",
    "\n",
    "A figura gerada deve ser parecida com:\n",
    "\n",
    "![images/dados.png](images/dados.png)\n",
    "\n",
    "Ao executar a célula abaixo, o resultado deve ser similar a:\n",
    "\n",
    "    Tempos: [0.0, 0.1, 0.2, 0.3, 0.4, 0.5, 0.6, 0.7, 0.8, ...]\n",
    "    Dados: [0.0, 0.61464164, 1.0320324, 1.1238251, 0.87540985, 0.39101585, -0.14270041, ...]"
   ]
  },
  {
   "cell_type": "code",
<<<<<<< HEAD
   "execution_count": 78,
=======
   "execution_count": 4,
>>>>>>> 566a6e59456794e9e375a23f52819bec3f9e0b86
   "metadata": {
    "collapsed": false
   },
   "outputs": [
    {
     "name": "stdout",
     "output_type": "stream",
     "text": [
<<<<<<< HEAD
      "Tempos: [0.0, 0.1, 0.2, 0.3, 0.4, 0.5, 0.6, 0.7, 0.8, 0.9, 1.0, 1.1, 1.2, 1.3, 1.4, 1.5, 1.6, 1.7, 1.8, 1.9, 2.0, 2.1, 2.2, 2.3, 2.4, 2.5, 2.6, 2.7, 2.8, 2.9, 3.0, 3.1, 3.2, 3.3, 3.4, 3.5, 3.6, 3.7, 3.8, 3.9, 4.0, 4.1, 4.2, 4.3, 4.4, 4.5, 4.6, 4.7, 4.8, 4.9, 5.0, 5.1, 5.2, 5.3, 5.4, 5.5, 5.6, 5.7, 5.8, 5.9, 6.0, 6.1, 6.2, 6.3, 6.4, 6.5, 6.6, 6.7, 6.8, 6.9, 7.0, 7.1, 7.2, 7.3, 7.4, 7.5, 7.6, 7.7, 7.8, 7.9, 8.0, 8.1, 8.2, 8.3, 8.4, 8.5, 8.6, 8.7, 8.8, 8.9, 9.0, 9.1, 9.2, 9.3, 9.4, 9.5, 9.6, 9.7, 9.8, 9.9, 10.0, 10.1, 10.2, 10.3, 10.4, 10.5, 10.6, 10.7, 10.8, 10.9, 11.0, 11.1, 11.2, 11.3, 11.4, 11.5, 11.6, 11.7, 11.8, 11.9, 12.0, 12.1, 12.2, 12.3, 12.4, 12.5, 12.6, 12.7, 12.8, 12.9, 13.0, 13.1, 13.2, 13.3, 13.4, 13.5, 13.6, 13.7, 13.8, 13.9, 14.0, 14.1, 14.2, 14.3, 14.4, 14.5, 14.6, 14.7, 14.8, 14.9, 15.0, 15.1, 15.2, 15.3, 15.4, 15.5, 15.6, 15.7, 15.8, 15.9, 16.0, 16.1, 16.2, 16.3, 16.4, 16.5, 16.6, 16.7, 16.8, 16.9, 17.0, 17.1, 17.2, 17.3, 17.4, 17.5, 17.6, 17.7, 17.8, 17.9, 18.0, 18.1, 18.2, 18.3, 18.4, 18.5, 18.6, 18.7, 18.8, 18.9, 19.0, 19.1, 19.2, 19.3, 19.4, 19.5, 19.6, 19.7, 19.8, 19.9, 20.0, 20.1, 20.2, 20.3, 20.4, 20.5, 20.6, 20.7, 20.8, 20.9, 21.0, 21.1, 21.2, 21.3, 21.4, 21.5, 21.6, 21.7, 21.8, 21.9, 22.0, 22.1, 22.2, 22.3, 22.4, 22.5, 22.6, 22.7, 22.8, 22.9, 23.0, 23.1, 23.2, 23.3, 23.4, 23.5, 23.6, 23.7, 23.8, 23.9]\n",
      "Dados: [0.0, 0.61464164, 1.0320324, 1.1238251, 0.87540985, 0.39101585, -0.14270041, -0.52186154, -0.59659114, -0.32337174, 0.21975159, 0.86043287, 1.3922289, 1.6467141, 1.5523145, 1.1593091, 0.62226425, 0.14603706, -0.085788363, 0.024965949, 0.45677374, 1.0759225, 1.6832216, 2.0835833, 2.1541709, 1.8873076, 1.3931564, 0.8612352, 0.49421121, 0.43710175, 0.72661379, 1.2783195, 1.9161477, 2.4338889, 2.6672284, 2.5511447, 2.1426217, 1.6007407, 1.1311076, 0.91402652, 1.0415133, 1.48515, 2.1060103, 2.703189, 3.0839824, 3.1312036, 2.8441177, 2.3386969, 1.8071066, 1.4505748, 1.4090961, 1.7125255, 2.2701481, 2.902367, 3.4034394, 3.613348, 3.4736972, 3.0481116, 2.5000081, 2.0355084, 1.8314335, 1.9735332, 2.4265299, 3.0464409, 3.6308739, 3.9897274, 4.0115968, 3.7026903, 3.1846584, 2.6520967, 2.3045669, 2.2768823, 2.5920127, 3.153059, 3.7771014, 4.2590973, 4.4435073, 4.2786283, 3.8346536, 3.2791511, 2.8185258, 2.6259153, 2.7807066, 3.2408029, 3.8573278, 4.4266312, 4.7614286, 4.7562241, 4.424162, 3.8924338, 3.3578455, 3.0180666, 3.0025774, 3.3274363, 3.8896698, 4.5032423, 4.9640432, 5.1211873, 4.9297225, 4.4663317, 3.9025443, 3.4448153, 3.2624035, 3.4282434, 3.8934667, 4.5044718, 5.0565811, 5.3655393, 5.3318785, 4.9756644, 4.4294856, 3.8921364, 3.5591707, 3.5545891, 3.8875211, 4.4490349, 5.05019, 5.4880385, 5.6165203, 5.3974851, 4.9140188, 4.3414187, 3.8859563, 3.7128201, 3.8884101, 4.3571415, 4.9608616, 5.4940968, 5.7758294, 5.7127321, 5.3317694, 4.7707774, 4.2303136, 3.9035954, 3.9090038, 4.2487288, 4.8080039, 5.3951972, 5.8087533, 5.9076023, 5.660439, 5.1566584, 4.5751275, 4.1217012, 3.957311, 4.1417471, 4.6127715, 5.2078593, 5.720973, 5.9745374, 5.8814716, 5.4756083, 4.8998752, 4.3563664, 4.0357444, 4.0506367, 4.3962913, 4.952237, 5.5243671, 5.9127468, 5.9814558, 5.7060695, 5.1821911, 4.5920549, 4.1408664, 3.9851183, 4.1779235, 4.650461, 5.2360174, 5.7282246, 5.9531508, 5.8300596, 5.3996139, 4.8096715, 4.2636343, 3.9493945, 3.9736985, 4.3248581, 4.8768333, 5.4332623, 5.7960567, 5.8345998, 5.5313751, 4.988086, 4.3901277, 3.9418246, 3.7950534, 3.9961897, 4.4699073, 5.0454927, 5.5164808, 5.7127796, 5.5600885, 5.1058548, 4.5026988, 3.9551006, 3.6479693, 3.6820497, 4.0387303, 4.5865447, 5.1270983, 5.4643731, 5.4732034, 5.1430008, 4.5814535, 3.9769084, 3.5325771, 3.395549, 3.6054095, 4.0804126, 4.6460377, 5.0959559, 5.2641073, 5.0827113, 4.6059455, 3.9910206, 3.443263, 3.1443897, 3.18903, 3.5516699, 4.0955656, 4.6205135, 4.9327876, 4.912815, 4.5569469, 3.9787347, 3.3692636, 2.930403, 2.8042882, 3.0236697, 3.5004738, 4.0565703, 4.4859995, 4.6269216, 4.4181522, 3.9205381, 3.2957021, 2.749585, 2.460506, 2.5168717]\n"
=======
      "tempos: [0.0, 0.1, 0.2, 0.3, 0.4, 0.5, 0.6, 0.7, 0.8, 0.9, 1.0, 1.1, 1.2, 1.3, 1.4, 1.5, 1.6, 1.7, 1.8, 1.9, 2.0, 2.1, 2.2, 2.3, 2.4, 2.5, 2.6, 2.7, 2.8, 2.9, 3.0, 3.1, 3.2, 3.3, 3.4, 3.5, 3.6, 3.7, 3.8, 3.9, 4.0, 4.1, 4.2, 4.3, 4.4, 4.5, 4.6, 4.7, 4.8, 4.9, 5.0, 5.1, 5.2, 5.3, 5.4, 5.5, 5.6, 5.7, 5.8, 5.9, 6.0, 6.1, 6.2, 6.3, 6.4, 6.5, 6.6, 6.7, 6.8, 6.9, 7.0, 7.1, 7.2, 7.3, 7.4, 7.5, 7.6, 7.7, 7.8, 7.9, 8.0, 8.1, 8.2, 8.3, 8.4, 8.5, 8.6, 8.7, 8.8, 8.9, 9.0, 9.1, 9.2, 9.3, 9.4, 9.5, 9.6, 9.7, 9.8, 9.9, 10.0, 10.1, 10.2, 10.3, 10.4, 10.5, 10.6, 10.7, 10.8, 10.9, 11.0, 11.1, 11.2, 11.3, 11.4, 11.5, 11.6, 11.7, 11.8, 11.9, 12.0, 12.1, 12.2, 12.3, 12.4, 12.5, 12.6, 12.7, 12.8, 12.9, 13.0, 13.1, 13.2, 13.3, 13.4, 13.5, 13.6, 13.7, 13.8, 13.9, 14.0, 14.1, 14.2, 14.3, 14.4, 14.5, 14.6, 14.7, 14.8, 14.9, 15.0, 15.1, 15.2, 15.3, 15.4, 15.5, 15.6, 15.7, 15.8, 15.9, 16.0, 16.1, 16.2, 16.3, 16.4, 16.5, 16.6, 16.7, 16.8, 16.9, 17.0, 17.1, 17.2, 17.3, 17.4, 17.5, 17.6, 17.7, 17.8, 17.9, 18.0, 18.1, 18.2, 18.3, 18.4, 18.5, 18.6, 18.7, 18.8, 18.9, 19.0, 19.1, 19.2, 19.3, 19.4, 19.5, 19.6, 19.7, 19.8, 19.9, 20.0, 20.1, 20.2, 20.3, 20.4, 20.5, 20.6, 20.7, 20.8, 20.9, 21.0, 21.1, 21.2, 21.3, 21.4, 21.5, 21.6, 21.7, 21.8, 21.9, 22.0, 22.1, 22.2, 22.3, 22.4, 22.5, 22.6, 22.7, 22.8, 22.9, 23.0, 23.1, 23.2, 23.3, 23.4, 23.5, 23.6, 23.7, 23.8, 23.9]\n",
      "dados: [0.0, 0.61464164, 1.0320324, 1.1238251, 0.87540985, 0.39101585, -0.14270041, -0.52186154, -0.59659114, -0.32337174, 0.21975159, 0.86043287, 1.3922289, 1.6467141, 1.5523145, 1.1593091, 0.62226425, 0.14603706, -0.085788363, 0.024965949, 0.45677374, 1.0759225, 1.6832216, 2.0835833, 2.1541709, 1.8873076, 1.3931564, 0.8612352, 0.49421121, 0.43710175, 0.72661379, 1.2783195, 1.9161477, 2.4338889, 2.6672284, 2.5511447, 2.1426217, 1.6007407, 1.1311076, 0.91402652, 1.0415133, 1.48515, 2.1060103, 2.703189, 3.0839824, 3.1312036, 2.8441177, 2.3386969, 1.8071066, 1.4505748, 1.4090961, 1.7125255, 2.2701481, 2.902367, 3.4034394, 3.613348, 3.4736972, 3.0481116, 2.5000081, 2.0355084, 1.8314335, 1.9735332, 2.4265299, 3.0464409, 3.6308739, 3.9897274, 4.0115968, 3.7026903, 3.1846584, 2.6520967, 2.3045669, 2.2768823, 2.5920127, 3.153059, 3.7771014, 4.2590973, 4.4435073, 4.2786283, 3.8346536, 3.2791511, 2.8185258, 2.6259153, 2.7807066, 3.2408029, 3.8573278, 4.4266312, 4.7614286, 4.7562241, 4.424162, 3.8924338, 3.3578455, 3.0180666, 3.0025774, 3.3274363, 3.8896698, 4.5032423, 4.9640432, 5.1211873, 4.9297225, 4.4663317, 3.9025443, 3.4448153, 3.2624035, 3.4282434, 3.8934667, 4.5044718, 5.0565811, 5.3655393, 5.3318785, 4.9756644, 4.4294856, 3.8921364, 3.5591707, 3.5545891, 3.8875211, 4.4490349, 5.05019, 5.4880385, 5.6165203, 5.3974851, 4.9140188, 4.3414187, 3.8859563, 3.7128201, 3.8884101, 4.3571415, 4.9608616, 5.4940968, 5.7758294, 5.7127321, 5.3317694, 4.7707774, 4.2303136, 3.9035954, 3.9090038, 4.2487288, 4.8080039, 5.3951972, 5.8087533, 5.9076023, 5.660439, 5.1566584, 4.5751275, 4.1217012, 3.957311, 4.1417471, 4.6127715, 5.2078593, 5.720973, 5.9745374, 5.8814716, 5.4756083, 4.8998752, 4.3563664, 4.0357444, 4.0506367, 4.3962913, 4.952237, 5.5243671, 5.9127468, 5.9814558, 5.7060695, 5.1821911, 4.5920549, 4.1408664, 3.9851183, 4.1779235, 4.650461, 5.2360174, 5.7282246, 5.9531508, 5.8300596, 5.3996139, 4.8096715, 4.2636343, 3.9493945, 3.9736985, 4.3248581, 4.8768333, 5.4332623, 5.7960567, 5.8345998, 5.5313751, 4.988086, 4.3901277, 3.9418246, 3.7950534, 3.9961897, 4.4699073, 5.0454927, 5.5164808, 5.7127796, 5.5600885, 5.1058548, 4.5026988, 3.9551006, 3.6479693, 3.6820497, 4.0387303, 4.5865447, 5.1270983, 5.4643731, 5.4732034, 5.1430008, 4.5814535, 3.9769084, 3.5325771, 3.395549, 3.6054095, 4.0804126, 4.6460377, 5.0959559, 5.2641073, 5.0827113, 4.6059455, 3.9910206, 3.443263, 3.1443897, 3.18903, 3.5516699, 4.0955656, 4.6205135, 4.9327876, 4.912815, 4.5569469, 3.9787347, 3.3692636, 2.930403, 2.8042882, 3.0236697, 3.5004738, 4.0565703, 4.4859995, 4.6269216, 4.4181522, 3.9205381, 3.2957021, 2.749585, 2.460506, 2.5168717]\n"
>>>>>>> 566a6e59456794e9e375a23f52819bec3f9e0b86
     ]
    }
   ],
   "source": [
    "print(\"tempos:\", tempos)\n",
    "print(\"dados:\", dados)"
   ]
  },
  {
   "cell_type": "markdown",
   "metadata": {},
   "source": [
    "## Tarefa 2\n",
    "\n",
    "* Calcule a temperatura média para o dia inteiro e guarde-a em uma variável chamada `media`.\n",
    "* Calcule o desvio padrão da temperatura para o dia inteiro e guarde-o em uma variável chamada `desvio_padrao`.\n",
    "\n",
    "Lembre-se que o desvio padrão é\n",
    "\n",
    "$$\n",
    "\\sigma = \\sqrt{\\sum\\limits_{i=1}^{N}\\frac{ (x_i - x_{media})^2 }{N}}\n",
    "$$\n",
    "\n",
    "em que $x_i$ são os dados, $x_{media}$ é a média e $N$ é o número de dados.\n",
    "\n",
    "**Dica**: Para elevar um número a uma potência, utilize `**`. Por exemplo, `2**4 == 16`."
   ]
  },
  {
   "cell_type": "code",
<<<<<<< HEAD
   "execution_count": 22,
=======
   "execution_count": 5,
>>>>>>> 566a6e59456794e9e375a23f52819bec3f9e0b86
   "metadata": {
    "collapsed": false
   },
   "outputs": [
    {
     "name": "stdout",
     "output_type": "stream",
     "text": [
<<<<<<< HEAD
      "240\n"
     ]
    }
   ],
   "source": [
    "N=len(dados)\n",
    "print(N)"
   ]
  },
  {
   "cell_type": "code",
   "execution_count": 29,
   "metadata": {
    "collapsed": false
   },
   "outputs": [
    {
     "name": "stdout",
     "output_type": "stream",
     "text": [
=======
>>>>>>> 566a6e59456794e9e375a23f52819bec3f9e0b86
      "3.614394766983332\n"
     ]
    }
   ],
   "source": [
<<<<<<< HEAD
    "soma = 0\n",
    "for temperatura in dados:\n",
    "    soma = soma + temperatura\n",
    "media = soma/N\n",
    "print(media)\n",
    "    "
   ]
  },
  {
   "cell_type": "code",
   "execution_count": 30,
   "metadata": {
    "collapsed": false
   },
   "outputs": [
    {
     "name": "stdout",
     "output_type": "stream",
     "text": [
      "1.5732070880463978\n"
     ]
    }
   ],
   "source": [
    "somatorio = 0\n",
    "for temperatura in dados: \n",
    "    somatorio = (temperatura - media)**2 + somatorio\n",
    "desvio_padrao = ((somatorio/N)**0.5)\n",
    "print(desvio_padrao)"
=======
    "N = len(dados)\n",
    "soma = 0\n",
    "for temperatura in dados:\n",
    "    soma = soma + temperatura\n",
    "media = soma / N\n",
    "print(media)"
>>>>>>> 566a6e59456794e9e375a23f52819bec3f9e0b86
   ]
  },
  {
   "cell_type": "markdown",
   "metadata": {},
   "source": [
    "### Resultado esperado\n",
    "\n",
    "As celúlas abaixo comparam a sua média e desvio padrão com os calculados pela biblioteca [numpy](http://numpy.org/).\n",
    "Ambas devem imprimir `True` quando executadas."
   ]
  },
  {
   "cell_type": "code",
<<<<<<< HEAD
   "execution_count": 31,
=======
   "execution_count": 8,
>>>>>>> 566a6e59456794e9e375a23f52819bec3f9e0b86
   "metadata": {
    "collapsed": false
   },
   "outputs": [
    {
     "name": "stdout",
     "output_type": "stream",
     "text": [
      "Media esta igual? True\n"
     ]
    }
   ],
   "source": [
    "import numpy as np\n",
    "print(\"Media esta igual?\", np.allclose(media, np.mean(dados)))"
   ]
  },
  {
   "cell_type": "code",
<<<<<<< HEAD
   "execution_count": 32,
=======
   "execution_count": 10,
>>>>>>> 566a6e59456794e9e375a23f52819bec3f9e0b86
   "metadata": {
    "collapsed": false
   },
   "outputs": [
    {
     "name": "stdout",
     "output_type": "stream",
     "text": [
      "Desvio padrao esta igual? True\n"
     ]
    }
   ],
   "source": [
    "print(\"Desvio padrao esta igual?\", np.allclose(desvio_padrao, np.std(dados)))"
   ]
  },
  {
   "cell_type": "code",
   "execution_count": 9,
   "metadata": {
    "collapsed": false
   },
   "outputs": [
    {
     "name": "stdout",
     "output_type": "stream",
     "text": [
      "1.5732070880463978\n"
     ]
    }
   ],
   "source": [
    "somatorio = 0\n",
    "for temperatura in dados:\n",
    "    somatorio = (temperatura - media)**2 + somatorio\n",
    "desvio_padrao = ((somatorio/N)**0.5)\n",
    "print(desvio_padrao)"
   ]
  },
  {
   "cell_type": "markdown",
   "metadata": {},
   "source": [
    "## Tarefa 3\n",
    "\n",
    "* Ache o valor máximo de temperatura medido e guarde-o na variável `maximo`.\n",
    "* Ache o valor mínimo de temperatura medido e guarde-o na variável `minimo`.\n",
    "\n",
    "**Dica**: o Python inclui um valor especial chamado de `None`. Ele é comumente utilizado para marcar que uma variável está \"vazia\" ou não utilizada ainda. Um detalhe desse valor é que não podemos utilizar `==` para checar se uma variável possui o valor `None`. Ao invés disso, devemos utilizar o comando `is`. Por exemplo:\n",
    "\n",
    "    variavel = None\n",
    "    if variavel is None:\n",
    "        print(\"A variavel eh None\")\n",
    "        variavel = 20\n",
    "        "
   ]
  },
  {
   "cell_type": "code",
<<<<<<< HEAD
   "execution_count": 79,
=======
   "execution_count": 12,
>>>>>>> 566a6e59456794e9e375a23f52819bec3f9e0b86
   "metadata": {
    "collapsed": false
   },
   "outputs": [
    {
     "name": "stdout",
     "output_type": "stream",
     "text": [
      "5.9814558\n"
     ]
    }
   ],
   "source": [
<<<<<<< HEAD
    "maximo=dados[0]\n",
    "for temperatura in dados: \n",
    "    if temperatura > maximo:\n",
    "        maximo = temperatura\n",
    "print(maximo)\n"
=======
    "maximo=0\n",
    "for temperatura in dados:\n",
    "    if temperatura>maximo:\n",
    "        maximo=temperatura\n",
    "print(maximo)"
>>>>>>> 566a6e59456794e9e375a23f52819bec3f9e0b86
   ]
  },
  {
   "cell_type": "code",
<<<<<<< HEAD
   "execution_count": 80,
=======
   "execution_count": 15,
>>>>>>> 566a6e59456794e9e375a23f52819bec3f9e0b86
   "metadata": {
    "collapsed": false
   },
   "outputs": [
    {
     "name": "stdout",
     "output_type": "stream",
     "text": [
      "-0.59659114\n"
     ]
    }
   ],
   "source": [
<<<<<<< HEAD
    "minimo=dados[0]\n",
    "for temperatura in dados:\n",
    "    if temperatura < minimo:\n",
    "       minimo = temperatura\n",
=======
    "minimo=0\n",
    "for temperatura in dados:\n",
    "    if temperatura<minimo:\n",
    "        minimo=temperatura\n",
>>>>>>> 566a6e59456794e9e375a23f52819bec3f9e0b86
    "print(minimo)"
   ]
  },
  {
   "cell_type": "markdown",
   "metadata": {},
   "source": [
    "### Resultado esperado\n",
    "\n",
    "As celúlas abaixo comparam os valores máximo e mínimo com os calculados pelas funções `max` e `min` do Python.\n",
    "Ambas devem imprimir `True` quando executadas."
   ]
  },
  {
   "cell_type": "code",
<<<<<<< HEAD
   "execution_count": 81,
=======
   "execution_count": 13,
>>>>>>> 566a6e59456794e9e375a23f52819bec3f9e0b86
   "metadata": {
    "collapsed": false
   },
   "outputs": [
    {
     "name": "stdout",
     "output_type": "stream",
     "text": [
      "Maximo esta igual? True\n"
     ]
    }
   ],
   "source": [
    "print(\"Maximo esta igual?\", np.allclose(maximo, max(dados)))"
   ]
  },
  {
   "cell_type": "code",
<<<<<<< HEAD
   "execution_count": 82,
=======
   "execution_count": 16,
>>>>>>> 566a6e59456794e9e375a23f52819bec3f9e0b86
   "metadata": {
    "collapsed": false
   },
   "outputs": [
    {
     "name": "stdout",
     "output_type": "stream",
     "text": [
      "Minimo esta igual? True\n"
     ]
    }
   ],
   "source": [
    "print(\"Minimo esta igual?\", np.allclose(minimo, min(dados)))"
   ]
  },
  {
   "cell_type": "markdown",
   "metadata": {},
   "source": [
    "## Tarefa 4\n",
    "\n",
    "* Calcule a temperatura média por hora e guarde-as em uma lista chamada `media_hora`.\n",
    "* Faça um gráfico dos dados originais juntamente com as médias que você calculou.\n",
    "\n",
    "**Dica 1**: quantos dados existem por hora?\n",
    "\n",
    "**Dica 2**: veja esse [exemplo de como colocar uma legenda no grafico](http://matplotlib.org/examples/api/legend_demo.html)."
   ]
  },
  {
   "cell_type": "code",
   "execution_count": 91,
   "metadata": {
    "collapsed": false
   },
   "outputs": [
    {
     "name": "stdout",
     "output_type": "stream",
     "text": [
      "[2.5168717, 2.5168717, 2.5168717, 2.5168717, 2.5168717, 2.5168717, 2.5168717, 2.5168717, 2.5168717, 2.5168717, 2.5168717, 2.5168717, 2.5168717]\n"
     ]
    },
    {
     "data": {
      "text/plain": [
       "<matplotlib.text.Text at 0x106ed4860>"
      ]
     },
     "execution_count": 91,
     "metadata": {},
     "output_type": "execute_result"
    },
    {
     "data": {
      "image/png": "iVBORw0KGgoAAAANSUhEUgAAAYIAAAEQCAYAAAC9VHPBAAAABHNCSVQICAgIfAhkiAAAAAlwSFlz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\nMAwT4bAQMAzDRDj/P00SbXpcsiZOAAAAAElFTkSuQmCC\n",
      "text/plain": [
       "<matplotlib.figure.Figure at 0x106e2f2e8>"
      ]
     },
     "metadata": {},
     "output_type": "display_data"
    }
   ],
   "source": [
    "media_hora=[]\n",
    "i=0\n",
    "soma_hora=0\n",
    "while i+10<N:\n",
    "    for i in range (i,i+10):\n",
    "        soma_hora = soma_hora + temperatura\n",
    "    media_parcial = soma_hora/10\n",
    "    media_hora.append(media_parcial)\n",
    "    soma_hora=0\n",
    "    i=i+10# Lendo agora o próximo conjunto de 10    \n",
    "print(media_hora)\n",
    "\n",
    " \n",
    "    \n",
    "\n",
    "import matplotlib.pyplot as plt\n",
    "\n",
    "%matplotlib inline\n",
    "plt.figure()\n",
    "plt.plot(tempos, dados, '-k')\n",
    "plt.xlabel('hora')\n",
    "plt.ylabel('temperatura')\n",
    "plt.xlabel('media_hora')\n",
    "        \n",
    "        \n",
    "    \n",
    "    \n",
    "  "
   ]
  },
  {
   "cell_type": "markdown",
   "metadata": {},
   "source": [
    "### Resultado esperado\n",
    "\n",
    "A figura gerada deve ser parecida com:\n",
    "\n",
    "![images/media-por-hora.png](images/media-por-hora.png)"
   ]
  },
  {
   "cell_type": "markdown",
   "metadata": {},
   "source": [
    "## Tarefa Bônus\n",
    "\n",
    "Essa tarefa vale um bônus de 0.5 pontos na nota da prática.\n",
    "\n",
    "* Calcule os máximos de temperatura por hora.\n",
    "* Calcule os mínimos de temperatura por hora.\n",
    "* Faça um gráfico com: (1) os dados originais (2) as médias por hora (3) os máximos por hora (4) os mínimos por hora."
   ]
  },
  {
   "cell_type": "code",
   "execution_count": null,
   "metadata": {
    "collapsed": false
   },
   "outputs": [],
   "source": []
  },
  {
   "cell_type": "markdown",
   "metadata": {},
   "source": [
    "### Resultado esperado\n",
    "\n",
    "A figura gerada deve ser parecida com:\n",
    "\n",
    "![images/media-maximo-minimo-por-hora.png](images/media-maximo-minimo-por-hora.png)"
   ]
  }
 ],
 "metadata": {
  "kernelspec": {
   "display_name": "Python 3",
   "language": "python",
   "name": "python3"
  },
  "language_info": {
   "codemirror_mode": {
    "name": "ipython",
    "version": 3
   },
   "file_extension": ".py",
   "mimetype": "text/x-python",
   "name": "python",
   "nbconvert_exporter": "python",
   "pygments_lexer": "ipython3",
   "version": "3.4.3"
  }
 },
 "nbformat": 4,
 "nbformat_minor": 0
}
